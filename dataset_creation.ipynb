{
 "cells": [
  {
   "cell_type": "markdown",
   "metadata": {},
   "source": [
    "# Dataset Creation"
   ]
  },
  {
   "cell_type": "code",
   "execution_count": 1,
   "metadata": {},
   "outputs": [],
   "source": [
    "import pandas as pd\n",
    "import numpy as np\n",
    "import glob"
   ]
  },
  {
   "cell_type": "code",
   "execution_count": 5,
   "metadata": {},
   "outputs": [],
   "source": [
    "# Création de la dataset\n",
    "df_name = pd.read_csv(\"features_name.csv\", sep=';')\n",
    "\n",
    "interesting_variables = list(df_name['Code'])\n",
    "feature_name = list(df_name['feature_name'])\n",
    "interesting_variables.append('SEQN')\n",
    "feature_name.append('seqn')\n",
    "type_list = list(df_name['type'])\n",
    "\n",
    "join_df = pd.read_sas('data_xpt/DEMO_J.xpt')\n",
    "join_df = join_df[np.intersect1d(interesting_variables, join_df.columns)]\n",
    "ext = \"data_xpt/*.XPT\"\n",
    "\n",
    "for file_name in glob.glob(ext):\n",
    "    df = pd.read_sas(file_name)\n",
    "    df = df[np.intersect1d(interesting_variables, df.columns)]\n",
    "    join_df = join_df.merge(df, on='SEQN', how='left')\n",
    "\n",
    "names = ['RIAGENDR', 'RIDAGEYR', 'RIDRETH3', 'DMDEDUC2', 'DMDHHSIZ', 'DMDHRMAZ', 'INDHHIN2']\n",
    "for name in names:\n",
    "    interesting_variables[interesting_variables.index(name)] = name + '_x'\n",
    "    \n",
    "# On réindexe la dataset avec les bons noms de variables\n",
    "df = join_df.reindex(columns=interesting_variables) \n",
    "df.columns = feature_name\n",
    "\n",
    "df.to_csv('data.csv')"
   ]
  }
 ],
 "metadata": {
  "kernelspec": {
   "display_name": "Python 3",
   "language": "python",
   "name": "python3"
  },
  "language_info": {
   "codemirror_mode": {
    "name": "ipython",
    "version": 3
   },
   "file_extension": ".py",
   "mimetype": "text/x-python",
   "name": "python",
   "nbconvert_exporter": "python",
   "pygments_lexer": "ipython3",
   "version": "3.7.6"
  }
 },
 "nbformat": 4,
 "nbformat_minor": 4
}
