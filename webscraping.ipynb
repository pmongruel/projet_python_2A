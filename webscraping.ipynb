{
 "cells": [
  {
   "cell_type": "code",
   "execution_count": 1,
   "metadata": {},
   "outputs": [],
   "source": [
    "from selenium import webdriver\n",
    "from webdriver_manager.chrome import ChromeDriverManager"
   ]
  },
  {
   "cell_type": "code",
   "execution_count": 3,
   "metadata": {},
   "outputs": [
    {
     "name": "stderr",
     "output_type": "stream",
     "text": [
      "[WDM] - Current google-chrome version is 87.0.4280\n",
      "[WDM] - Get LATEST driver version for 87.0.4280\n",
      "[WDM] - Driver [C:\\Users\\pmong\\.wdm\\drivers\\chromedriver\\win32\\87.0.4280.88\\chromedriver.exe] found in cache\n"
     ]
    },
    {
     "name": "stdout",
     "output_type": "stream",
     "text": [
      " \n"
     ]
    }
   ],
   "source": [
    "chrome_options = webdriver.ChromeOptions()\n",
    "prefs = {'download.default_directory' : 'C:/Users/pmong/Desktop/ENSAE/projet-python/data_xpt'}\n",
    "chrome_options.add_experimental_option('prefs', prefs)\n",
    "\n",
    "driver = webdriver.Chrome(ChromeDriverManager().install(), options = chrome_options)\n",
    "\n",
    "#Obtenir les données démographiques\n",
    "driver.get('https://wwwn.cdc.gov/nchs/nhanes/search/datapage.aspx?Component=Demographics&CycleBeginYear=2017')\n",
    "demographics_xpath = '/html/body/form/div[8]/main/div[4]/div/div[3]/div/div/div/table/tbody/tr/td[3]/a'\n",
    "\n",
    "#obtenir les données du 'questionnaire data'\n",
    "driver.get('https://wwwn.cdc.gov/nchs/nhanes/search/datapage.aspx?Component=Questionnaire&CycleBeginYear=2017')\n",
    "mental_health_xpath = '/html/body/form/div[8]/main/div[4]/div/div[3]/div/div/div/table/tbody/tr[18]/td[3]/a'\n",
    "medical_conditions_xpath = '/html/body/form/div[8]/main/div[4]/div/div[3]/div/div/div/table/tbody/tr[17]/td[3]/a'\n",
    "hospitalization_xpath = '/html/body/form/div[8]/main/div[4]/div/div[3]/div/div/div/table/tbody/tr[14]/td[3]/a'\n",
    "health_insurance_xpath = '/html/body/form/div[8]/main/div[4]/div/div[3]/div/div/div/table/tbody/tr[12]/td[3]/a'\n",
    "childhood_xpath = '/html/body/form/div[8]/main/div[4]/div/div[3]/div/div/div/table/tbody/tr[11]/td[3]/a'\n",
    "drug_use_xpath ='/html/body/form/div[8]/main/div[4]/div/div[3]/div/div/div/table/tbody/tr[10]/td[3]/a'\n",
    "disability_xpath = '/html/body/form/div[8]/main/div[4]/div/div[3]/div/div/div/table/tbody/tr[9]/td[3]/a'\n",
    "diet_behaviour_xpath = '/html/body/form/div[8]/main/div[4]/div/div[3]/div/div/div/table/tbody/tr[8]/td[3]/a'\n",
    "diabetes_xpath = '/html/body/form/div[8]/main/div[4]/div/div[3]/div/div/div/table/tbody/tr[7]/td[3]/a'\n",
    "current_health_status_xpath = '/html/body/form/div[8]/main/div[4]/div/div[3]/div/div/div/table/tbody/tr[5]/td[3]/a'\n",
    "cardiovascular_health_xpath = '/html/body/form/div[8]/main/div[4]/div/div[3]/div/div/div/table/tbody/tr[4]/td[3]/a'\n",
    "blood_pressure_cholesterol_xpath = '/html/body/form/div[8]/main/div[4]/div/div[3]/div/div/div/table/tbody/tr[3]/td[3]/a'\n",
    "\n",
    "# Obtenir les données du 'laboratory data'\n",
    "driver.get('https://wwwn.cdc.gov/nchs/nhanes/search/datapage.aspx?Component=Laboratory&CycleBeginYear=2017')\n",
    "albumine_xpath = '/html/body/form/div[8]/main/div[4]/div/div[3]/div/div/div/table/tbody/tr[1]/td[3]/a'\n",
    "cholesterol_xpath = '/html/body/form/div[8]/main/div[4]/div/div[3]/div/div/div/table/tbody/tr[3]/td[3]/a'\n",
    "blood_xpath = '/html/body/form/div[8]/main/div[4]/div/div[3]/div/div/div/table/tbody/tr[24]/td[3]/a'\n",
    "chro_cob_xpath = '/html/body/form/div[8]/main/div[4]/div/div[3]/div/div/div/table/tbody/tr[5]/td[3]/a'\n",
    "complete_blood_xpath = '/html/body/form/div[8]/main/div[4]/div/div[3]/div/div/div/table/tbody/tr[6]/td[3]/a'\n",
    "ferritin_xpath = '/html/body/form/div[8]/main/div[4]/div/div[3]/div/div/div/table/tbody/tr[10]/td[3]/a'\n",
    "glycohemoglobin_xpath = '/html/body/form/div[8]/main/div[4]/div/div[3]/div/div/div/table/tbody/tr[13]/td[3]/a'\n",
    "hepatitis_a_xpath = '/html/body/form/div[8]/main/div[4]/div/div[3]/div/div/div/table/tbody/tr[14]/td[3]/a'\n",
    "hepatitis_b_xpath = '/html/body/form/div[8]/main/div[4]/div/div[3]/div/div/div/table/tbody/tr[15]/td[3]/a'\n",
    "hepatitis_e_xpath = '/html/body/form/div[8]/main/div[4]/div/div[3]/div/div/div/table/tbody/tr[18]/td[3]/a'\n",
    "mercury_xpath = '/html/body/form/div[8]/main/div[4]/div/div[3]/div/div/div/table/tbody/tr[26]/td[3]/a'\n",
    "vitamin_xpath = '/html/body/form/div[8]/main/div[4]/div/div[3]/div/div/div/table/tbody/tr[32]/td[3]/a'\n",
    "\n",
    "variables = [demographics_xpath, mental_health_xpath, medical_conditions_xpath, hospitalization_xpath, health_insurance_xpath, \n",
    "            childhood_xpath, drug_use_xpath, disability_xpath, diet_behaviour_xpath, diabetes_xpath, current_health_status_xpath,\n",
    "            cardiovascular_health_xpath, blood_pressure_cholesterol_xpath, albumine_xpath, cholesterol_xpath, blood_xpath,\n",
    "            chro_cob_xpath, complete_blood_xpath, ferritin_xpath, glycohemoglobin_xpath, hepatitis_a_xpath, hepatitis_b_xpath,\n",
    "            hepatitis_e_xpath, mercury_xpath, vitamin_xpath]\n",
    "\n",
    "for variable in variables:\n",
    "    driver.find_element_by_xpath(variable).click()"
   ]
  }
 ],
 "metadata": {
  "kernelspec": {
   "display_name": "Python 3",
   "language": "python",
   "name": "python3"
  },
  "language_info": {
   "codemirror_mode": {
    "name": "ipython",
    "version": 3
   },
   "file_extension": ".py",
   "mimetype": "text/x-python",
   "name": "python",
   "nbconvert_exporter": "python",
   "pygments_lexer": "ipython3",
   "version": "3.7.6"
  }
 },
 "nbformat": 4,
 "nbformat_minor": 4
}
