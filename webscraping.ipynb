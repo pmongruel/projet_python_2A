{
 "cells": [
  {
   "cell_type": "code",
   "execution_count": 1,
   "metadata": {},
   "outputs": [
    {
     "name": "stdout",
     "output_type": "stream",
     "text": [
      "Requirement already satisfied: selenium in c:\\users\\pmong\\anaconda3\\lib\\site-packages (3.141.0)\n",
      "Requirement already satisfied: urllib3 in c:\\users\\pmong\\anaconda3\\lib\\site-packages (from selenium) (1.25.8)\n",
      "Note: you may need to restart the kernel to use updated packages.\n"
     ]
    }
   ],
   "source": [
    "pip install selenium"
   ]
  },
  {
   "cell_type": "code",
   "execution_count": 2,
   "metadata": {
    "scrolled": true
   },
   "outputs": [
    {
     "name": "stdout",
     "output_type": "stream",
     "text": [
      "Requirement already satisfied: webdriver_manager in c:\\users\\pmong\\anaconda3\\lib\\site-packages (3.2.2)\n",
      "Requirement already satisfied: requests in c:\\users\\pmong\\anaconda3\\lib\\site-packages (from webdriver_manager) (2.22.0)\n",
      "Requirement already satisfied: crayons in c:\\users\\pmong\\anaconda3\\lib\\site-packages (from webdriver_manager) (0.4.0)\n",
      "Requirement already satisfied: configparser in c:\\users\\pmong\\anaconda3\\lib\\site-packages (from webdriver_manager) (5.0.1)\n",
      "Requirement already satisfied: urllib3!=1.25.0,!=1.25.1,<1.26,>=1.21.1 in c:\\users\\pmong\\anaconda3\\lib\\site-packages (from requests->webdriver_manager) (1.25.8)\n",
      "Requirement already satisfied: idna<2.9,>=2.5 in c:\\users\\pmong\\anaconda3\\lib\\site-packages (from requests->webdriver_manager) (2.8)\n",
      "Requirement already satisfied: chardet<3.1.0,>=3.0.2 in c:\\users\\pmong\\anaconda3\\lib\\site-packages (from requests->webdriver_manager) (3.0.4)\n",
      "Requirement already satisfied: certifi>=2017.4.17 in c:\\users\\pmong\\anaconda3\\lib\\site-packages (from requests->webdriver_manager) (2019.11.28)\n",
      "Requirement already satisfied: colorama in c:\\users\\pmong\\anaconda3\\lib\\site-packages (from crayons->webdriver_manager) (0.4.3)\n",
      "Note: you may need to restart the kernel to use updated packages.\n"
     ]
    }
   ],
   "source": [
    "pip install webdriver_manager"
   ]
  },
  {
   "cell_type": "code",
   "execution_count": 1,
   "metadata": {},
   "outputs": [],
   "source": [
    "from selenium import webdriver\n",
    "from webdriver_manager.chrome import ChromeDriverManager"
   ]
  },
  {
   "cell_type": "code",
   "execution_count": 2,
   "metadata": {},
   "outputs": [
    {
     "name": "stderr",
     "output_type": "stream",
     "text": [
      "[WDM] - Current google-chrome version is 86.0.4240\n",
      "[WDM] - Get LATEST driver version for 86.0.4240\n",
      "[WDM] - Get LATEST driver version for 86.0.4240\n"
     ]
    },
    {
     "name": "stdout",
     "output_type": "stream",
     "text": [
      " \n"
     ]
    },
    {
     "name": "stderr",
     "output_type": "stream",
     "text": [
      "[WDM] - Trying to download new driver from http://chromedriver.storage.googleapis.com/86.0.4240.22/chromedriver_win32.zip\n",
      "[WDM] - Driver has been saved in cache [C:\\Users\\pmong\\.wdm\\drivers\\chromedriver\\win32\\86.0.4240.22]\n",
      "[WDM] - Current google-chrome version is 86.0.4240\n",
      "[WDM] - Get LATEST driver version for 86.0.4240\n",
      "[WDM] - Driver [C:\\Users\\pmong\\.wdm\\drivers\\chromedriver\\win32\\86.0.4240.22\\chromedriver.exe] found in cache\n"
     ]
    },
    {
     "name": "stdout",
     "output_type": "stream",
     "text": [
      " \n"
     ]
    },
    {
     "name": "stderr",
     "output_type": "stream",
     "text": [
      "[WDM] - Current google-chrome version is 86.0.4240\n",
      "[WDM] - Get LATEST driver version for 86.0.4240\n",
      "[WDM] - Driver [C:\\Users\\pmong\\.wdm\\drivers\\chromedriver\\win32\\86.0.4240.22\\chromedriver.exe] found in cache\n"
     ]
    },
    {
     "name": "stdout",
     "output_type": "stream",
     "text": [
      " \n"
     ]
    }
   ],
   "source": [
    "chrome_options = webdriver.ChromeOptions()\n",
    "prefs = {'download.default_directory' : 'C:/Users/pmong/Desktop/ENSAE/projet-python/data_xpt'}\n",
    "chrome_options.add_experimental_option('prefs', prefs)\n",
    "#chrome_options.add_argument(\"headless\")\n",
    "\n",
    "driver = webdriver.Chrome(ChromeDriverManager().install(), options = chrome_options)\n",
    "driver.get('https://wwwn.cdc.gov/nchs/nhanes/search/datapage.aspx?Component=Demographics&CycleBeginYear=2017')\n",
    "demographics_xpath = '/html/body/form/div[8]/main/div[4]/div/div[3]/div/div/div/table/tbody/tr/td[3]/a'\n",
    "driver.find_element_by_xpath(demographics_xpath).click()\n",
    "\n",
    "\n",
    "driver = webdriver.Chrome(ChromeDriverManager().install(), options = chrome_options)\n",
    "driver.get('https://wwwn.cdc.gov/nchs/nhanes/search/datapage.aspx?Component=Questionnaire&CycleBeginYear=2017')\n",
    "\n",
    "mental_health_xpath = '/html/body/form/div[8]/main/div[4]/div/div[3]/div/div/div/table/tbody/tr[18]/td[3]/a'\n",
    "medical_conditions_xpath = '/html/body/form/div[8]/main/div[4]/div/div[3]/div/div/div/table/tbody/tr[17]/td[3]/a'\n",
    "hospitalization_xpath = '/html/body/form/div[8]/main/div[4]/div/div[3]/div/div/div/table/tbody/tr[14]/td[3]/a'\n",
    "health_insurance = '/html/body/form/div[8]/main/div[4]/div/div[3]/div/div/div/table/tbody/tr[12]/td[3]/a'\n",
    "childhood = '/html/body/form/div[8]/main/div[4]/div/div[3]/div/div/div/table/tbody/tr[11]/td[3]/a'\n",
    "drug_use ='/html/body/form/div[8]/main/div[4]/div/div[3]/div/div/div/table/tbody/tr[10]/td[3]/a'\n",
    "disability = '/html/body/form/div[8]/main/div[4]/div/div[3]/div/div/div/table/tbody/tr[9]/td[3]/a'\n",
    "diet_behaviour = '/html/body/form/div[8]/main/div[4]/div/div[3]/div/div/div/table/tbody/tr[8]/td[3]/a'\n",
    "diabetes = '/html/body/form/div[8]/main/div[4]/div/div[3]/div/div/div/table/tbody/tr[7]/td[3]/a'\n",
    "current_health_status = '/html/body/form/div[8]/main/div[4]/div/div[3]/div/div/div/table/tbody/tr[5]/td[3]/a'\n",
    "cardiovascular_health = '/html/body/form/div[8]/main/div[4]/div/div[3]/div/div/div/table/tbody/tr[4]/td[3]/a'\n",
    "blood_pressure_cholesterol = '/html/body/form/div[8]/main/div[4]/div/div[3]/div/div/div/table/tbody/tr[3]/td[3]/a'\n",
    "\n",
    "driver.find_element_by_xpath(mental_health_xpath).click()\n",
    "driver.find_element_by_xpath(medical_conditions_xpath).click()\n",
    "driver.find_element_by_xpath(hospitalization_xpath).click()\n",
    "driver.find_element_by_xpath(health_insurance).click()\n",
    "driver.find_element_by_xpath(childhood).click()\n",
    "driver.find_element_by_xpath(drug_use).click()\n",
    "driver.find_element_by_xpath(disability).click()\n",
    "driver.find_element_by_xpath(diet_behaviour).click()\n",
    "driver.find_element_by_xpath(diabetes).click()\n",
    "driver.find_element_by_xpath(current_health_status).click()\n",
    "driver.find_element_by_xpath(cardiovascular_health).click()\n",
    "driver.find_element_by_xpath(blood_pressure_cholesterol).click()\n",
    "\n",
    "\n",
    "driver = webdriver.Chrome(ChromeDriverManager().install(), options = chrome_options)\n",
    "driver.get('https://wwwn.cdc.gov/nchs/nhanes/search/datapage.aspx?Component=Laboratory&CycleBeginYear=2017')\n",
    "\n",
    "albumine_xpath = '/html/body/form/div[8]/main/div[4]/div/div[3]/div/div/div/table/tbody/tr[1]/td[3]/a'\n",
    "cholesterol_xpath = '/html/body/form/div[8]/main/div[4]/div/div[3]/div/div/div/table/tbody/tr[3]/td[3]/a'\n",
    "blood_xpath = '/html/body/form/div[8]/main/div[4]/div/div[3]/div/div/div/table/tbody/tr[24]/td[3]/a'\n",
    "\n",
    "driver.find_element_by_xpath(albumine_xpath).click()\n",
    "driver.find_element_by_xpath(cholesterol_xpath).click()\n",
    "driver.find_element_by_xpath(blood_xpath).click()\n"
   ]
  },
  {
   "cell_type": "code",
   "execution_count": null,
   "metadata": {},
   "outputs": [],
   "source": []
  }
 ],
 "metadata": {
  "kernelspec": {
   "display_name": "Python 3",
   "language": "python",
   "name": "python3"
  },
  "language_info": {
   "codemirror_mode": {
    "name": "ipython",
    "version": 3
   },
   "file_extension": ".py",
   "mimetype": "text/x-python",
   "name": "python",
   "nbconvert_exporter": "python",
   "pygments_lexer": "ipython3",
   "version": "3.7.6"
  }
 },
 "nbformat": 4,
 "nbformat_minor": 4
}
