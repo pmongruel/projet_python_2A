{
 "cells": [
  {
   "cell_type": "markdown",
   "metadata": {},
   "source": [
    "# Web-scraping"
   ]
  },
  {
   "cell_type": "markdown",
   "metadata": {},
   "source": [
    "On commence par récolter nos données par web-scraping sur le site de la NHANES (*national health and nutrition examination survey*)"
   ]
  },
  {
   "cell_type": "code",
   "execution_count": 1,
   "metadata": {},
   "outputs": [],
   "source": [
    "from selenium import webdriver\n",
    "from webdriver_manager.chrome import ChromeDriverManager"
   ]
  },
  {
   "cell_type": "code",
   "execution_count": 2,
   "metadata": {},
   "outputs": [
    {
     "name": "stderr",
     "output_type": "stream",
     "text": [
      "[WDM] - Current google-chrome version is 87.0.4280\n",
      "[WDM] - Get LATEST driver version for 87.0.4280\n",
      "[WDM] - Driver [C:\\Users\\pmong\\.wdm\\drivers\\chromedriver\\win32\\87.0.4280.88\\chromedriver.exe] found in cache\n"
     ]
    },
    {
     "name": "stdout",
     "output_type": "stream",
     "text": [
      " \n"
     ]
    }
   ],
   "source": [
    "chrome_options = webdriver.ChromeOptions()\n",
    "\n",
    "# On crée le dossier data_xpt dans lequel toutes les tables seront téléchargées\n",
    "prefs = {'download.default_directory': 'C:/Users/data_xpt'}\n",
    "chrome_options.add_experimental_option('prefs', prefs)\n",
    "\n",
    "driver = webdriver.Chrome(ChromeDriverManager().install(), options=chrome_options)\n",
    "\n",
    "# Obtenir les données démographiques\n",
    "driver.get('https://wwwn.cdc.gov/nchs/nhanes/search/datapage.aspx?Component=Demographics&CycleBeginYear=2017')\n",
    "demographics_xpath = '/html/body/form/div[8]/main/div[4]/div/div[3]/div/div/div/table/tbody/tr/td[3]/a'\n",
    "driver.find_element_by_xpath(demographics_xpath).click()"
   ]
  },
  {
   "cell_type": "code",
   "execution_count": 3,
   "metadata": {},
   "outputs": [
    {
     "name": "stderr",
     "output_type": "stream",
     "text": [
      "[WDM] - Current google-chrome version is 87.0.4280\n",
      "[WDM] - Get LATEST driver version for 87.0.4280\n",
      "[WDM] - Driver [C:\\Users\\pmong\\.wdm\\drivers\\chromedriver\\win32\\87.0.4280.88\\chromedriver.exe] found in cache\n"
     ]
    },
    {
     "name": "stdout",
     "output_type": "stream",
     "text": [
      " \n"
     ]
    }
   ],
   "source": [
    "# Obtenir les données du 'questionnaire data'\n",
    "driver = webdriver.Chrome(ChromeDriverManager().install(), options=chrome_options)\n",
    "driver.get('https://wwwn.cdc.gov/nchs/nhanes/search/datapage.aspx?Component=Questionnaire&CycleBeginYear=2017')\n",
    "\n",
    "mental_health_xpath = '/html/body/form/div[8]/main/div[4]/div/div[3]/div/div/div/table/tbody/tr[18]/td[3]/a'\n",
    "medical_conditions_xpath = '/html/body/form/div[8]/main/div[4]/div/div[3]/div/div/div/table/tbody/tr[17]/td[3]/a'\n",
    "hospitalization_xpath = '/html/body/form/div[8]/main/div[4]/div/div[3]/div/div/div/table/tbody/tr[14]/td[3]/a'\n",
    "health_insurance_xpath = '/html/body/form/div[8]/main/div[4]/div/div[3]/div/div/div/table/tbody/tr[12]/td[3]/a'\n",
    "childhood_xpath = '/html/body/form/div[8]/main/div[4]/div/div[3]/div/div/div/table/tbody/tr[11]/td[3]/a'\n",
    "drug_use_xpath ='/html/body/form/div[8]/main/div[4]/div/div[3]/div/div/div/table/tbody/tr[10]/td[3]/a'\n",
    "disability_xpath = '/html/body/form/div[8]/main/div[4]/div/div[3]/div/div/div/table/tbody/tr[9]/td[3]/a'\n",
    "diet_behaviour_xpath = '/html/body/form/div[8]/main/div[4]/div/div[3]/div/div/div/table/tbody/tr[8]/td[3]/a'\n",
    "diabetes_xpath = '/html/body/form/div[8]/main/div[4]/div/div[3]/div/div/div/table/tbody/tr[7]/td[3]/a'\n",
    "current_health_status_xpath = '/html/body/form/div[8]/main/div[4]/div/div[3]/div/div/div/table/tbody/tr[5]/td[3]/a'\n",
    "cardiovascular_health_xpath = '/html/body/form/div[8]/main/div[4]/div/div[3]/div/div/div/table/tbody/tr[4]/td[3]/a'\n",
    "blood_pressure_cholesterol_xpath = '/html/body/form/div[8]/main/div[4]/div/div[3]/div/div/div/table/tbody/tr[3]/td[3]/a'\n",
    "\n",
    "variables = [mental_health_xpath, medical_conditions_xpath, hospitalization_xpath, health_insurance_xpath, childhood_xpath, \n",
    "            drug_use_xpath, disability_xpath, diet_behaviour_xpath, diabetes_xpath, current_health_status_xpath,\n",
    "            cardiovascular_health_xpath, blood_pressure_cholesterol_xpath]\n",
    "\n",
    "for variable in variables:\n",
    "    driver.find_element_by_xpath(variable).click()"
   ]
  },
  {
   "cell_type": "code",
   "execution_count": 4,
   "metadata": {},
   "outputs": [
    {
     "name": "stderr",
     "output_type": "stream",
     "text": [
      "[WDM] - Current google-chrome version is 87.0.4280\n",
      "[WDM] - Get LATEST driver version for 87.0.4280\n",
      "[WDM] - Driver [C:\\Users\\pmong\\.wdm\\drivers\\chromedriver\\win32\\87.0.4280.88\\chromedriver.exe] found in cache\n"
     ]
    },
    {
     "name": "stdout",
     "output_type": "stream",
     "text": [
      " \n"
     ]
    }
   ],
   "source": [
    "# Obtenir les données du 'laboratory data'\n",
    "driver = webdriver.Chrome(ChromeDriverManager().install(), options=chrome_options)\n",
    "driver.get('https://wwwn.cdc.gov/nchs/nhanes/search/datapage.aspx?Component=Laboratory&CycleBeginYear=2017')\n",
    "\n",
    "albumine_xpath = '/html/body/form/div[8]/main/div[4]/div/div[3]/div/div/div/table/tbody/tr[1]/td[3]/a'\n",
    "cholesterol_xpath = '/html/body/form/div[8]/main/div[4]/div/div[3]/div/div/div/table/tbody/tr[3]/td[3]/a'\n",
    "blood_xpath = '/html/body/form/div[8]/main/div[4]/div/div[3]/div/div/div/table/tbody/tr[24]/td[3]/a'\n",
    "chro_cob_xpath = '/html/body/form/div[8]/main/div[4]/div/div[3]/div/div/div/table/tbody/tr[5]/td[3]/a'\n",
    "complete_blood_xpath = '/html/body/form/div[8]/main/div[4]/div/div[3]/div/div/div/table/tbody/tr[6]/td[3]/a'\n",
    "ferritin_xpath = '/html/body/form/div[8]/main/div[4]/div/div[3]/div/div/div/table/tbody/tr[10]/td[3]/a'\n",
    "glycohemoglobin_xpath = '/html/body/form/div[8]/main/div[4]/div/div[3]/div/div/div/table/tbody/tr[13]/td[3]/a'\n",
    "hepatitis_a_xpath = '/html/body/form/div[8]/main/div[4]/div/div[3]/div/div/div/table/tbody/tr[14]/td[3]/a'\n",
    "hepatitis_b_xpath = '/html/body/form/div[8]/main/div[4]/div/div[3]/div/div/div/table/tbody/tr[15]/td[3]/a'\n",
    "hepatitis_e_xpath = '/html/body/form/div[8]/main/div[4]/div/div[3]/div/div/div/table/tbody/tr[18]/td[3]/a'\n",
    "mercury_xpath = '/html/body/form/div[8]/main/div[4]/div/div[3]/div/div/div/table/tbody/tr[26]/td[3]/a'\n",
    "vitamin_xpath = '/html/body/form/div[8]/main/div[4]/div/div[3]/div/div/div/table/tbody/tr[33]/td[3]/a'\n",
    "\n",
    "variables = [albumine_xpath, cholesterol_xpath, blood_xpath, chro_cob_xpath, complete_blood_xpath, ferritin_xpath, \n",
    "            glycohemoglobin_xpath, hepatitis_a_xpath, hepatitis_b_xpath, hepatitis_e_xpath, mercury_xpath, vitamin_xpath]\n",
    "\n",
    "for variable in variables:\n",
    "    driver.find_element_by_xpath(variable).click()"
   ]
  },
  {
   "cell_type": "markdown",
   "metadata": {},
   "source": [
    "# Dataset Creation"
   ]
  },
  {
   "cell_type": "markdown",
   "metadata": {},
   "source": [
    "Après avoir téléchargé les différentes tables sur le site NHANES, nous les fusionnons en une seule base de données."
   ]
  },
  {
   "cell_type": "code",
   "execution_count": 5,
   "metadata": {},
   "outputs": [],
   "source": [
    "import pandas as pd\n",
    "import numpy as np\n",
    "import glob"
   ]
  },
  {
   "cell_type": "code",
   "execution_count": 6,
   "metadata": {},
   "outputs": [],
   "source": [
    "# Création de la dataset\n",
    "df_name = pd.read_csv(\"features_name.csv\", sep=';')\n",
    "\n",
    "interesting_variables = list(df_name['Code'])\n",
    "feature_name = list(df_name['feature_name'])\n",
    "interesting_variables.append('SEQN')\n",
    "feature_name.append('seqn')\n",
    "type_list = list(df_name['type'])\n",
    "\n",
    "join_df = pd.read_sas('data_xpt/DEMO_J.xpt')\n",
    "join_df = join_df[np.intersect1d(interesting_variables, join_df.columns)]\n",
    "ext = \"data_xpt/*.XPT\"\n",
    "\n",
    "for file_name in glob.glob(ext):\n",
    "    df = pd.read_sas(file_name)\n",
    "    df = df[np.intersect1d(interesting_variables, df.columns)]\n",
    "    join_df = join_df.merge(df, on='SEQN', how='left')\n",
    "\n",
    "names = ['RIAGENDR', 'RIDAGEYR', 'RIDRETH3', 'DMDEDUC2', 'DMDHHSIZ', 'DMDHRMAZ', 'INDHHIN2']\n",
    "for name in names:\n",
    "    interesting_variables[interesting_variables.index(name)] = name + '_x'\n",
    "    \n",
    "# On réindexe la dataset avec les bons noms de variables\n",
    "df = join_df.reindex(columns=interesting_variables) \n",
    "df.columns = feature_name\n",
    "\n",
    "# On exporte notre base de données en csv\n",
    "df.to_csv('data.csv')"
   ]
  }
 ],
 "metadata": {
  "kernelspec": {
   "display_name": "Python 3",
   "language": "python",
   "name": "python3"
  },
  "language_info": {
   "codemirror_mode": {
    "name": "ipython",
    "version": 3
   },
   "file_extension": ".py",
   "mimetype": "text/x-python",
   "name": "python",
   "nbconvert_exporter": "python",
   "pygments_lexer": "ipython3",
   "version": "3.7.6"
  }
 },
 "nbformat": 4,
 "nbformat_minor": 4
}
